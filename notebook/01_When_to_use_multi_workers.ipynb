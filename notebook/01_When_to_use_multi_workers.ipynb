{
 "cells": [
  {
   "cell_type": "markdown",
   "metadata": {},
   "source": [
    "## 1. Libraries"
   ]
  },
  {
   "cell_type": "code",
   "execution_count": 1,
   "metadata": {},
   "outputs": [
    {
     "data": {
      "text/plain": [
       "'1.4.0'"
      ]
     },
     "execution_count": 1,
     "metadata": {},
     "output_type": "execute_result"
    }
   ],
   "source": [
    "import time\n",
    "\n",
    "import numpy as np\n",
    "import torch\n",
    "import torch.utils.data as torchdata\n",
    "\n",
    "from multiprocessing import cpu_count\n",
    "\n",
    "\n",
    "torch.__version__"
   ]
  },
  {
   "cell_type": "markdown",
   "metadata": {},
   "source": [
    "## 2. DataLoaderで`num_workers > 0`を設定した時の挙動を確認する"
   ]
  },
  {
   "cell_type": "markdown",
   "metadata": {},
   "source": [
    "### 2.1 Dataset定義\n",
    "\n",
    "オプションをつけることでわざと遅くする機能を持たせます。"
   ]
  },
  {
   "cell_type": "code",
   "execution_count": 2,
   "metadata": {},
   "outputs": [],
   "source": [
    "class DatasetWrapper(torchdata.Dataset):\n",
    "    def __init__(self, slow=False, wait=0.01):\n",
    "        self.slow = slow\n",
    "        self.wait = wait\n",
    "        \n",
    "    def __len__(self):\n",
    "        return 128\n",
    "    \n",
    "    def __getitem__(self, idx):\n",
    "        if self.slow:\n",
    "            time.sleep(self.wait)\n",
    "        return np.random.random(10)\n",
    "    \n",
    "    \n",
    "def create_loader(slow=False, wait=0.01, num_workers=0):\n",
    "    # parameters\n",
    "    batch_size = 32\n",
    "    shuffle = False\n",
    "    pin_memory = False\n",
    "    loader = torchdata.DataLoader(\n",
    "        DatasetWrapper(slow=slow, wait=wait),\n",
    "        num_workers=num_workers,\n",
    "        batch_size=batch_size,\n",
    "        shuffle=shuffle,\n",
    "        pin_memory=pin_memory)\n",
    "    return loader"
   ]
  },
  {
   "cell_type": "markdown",
   "metadata": {},
   "source": [
    "### 2.2 `num_workers > 0`の場合の挙動を確認する\n",
    "\n",
    "`num_workers == 0`の場合と`num_workers > 0`の場合でデータのロードの仕方がどう変化するかを見てみましょう。"
   ]
  },
  {
   "cell_type": "code",
   "execution_count": 8,
   "metadata": {},
   "outputs": [
    {
     "name": "stdout",
     "output_type": "stream",
     "text": [
      "elapsed time for batch: 1 is 0.35927 s\n",
      "elapsed time for batch: 2 is 0.38517 s\n",
      "elapsed time for batch: 3 is 0.38399 s\n",
      "elapsed time for batch: 4 is 0.37444 s\n"
     ]
    }
   ],
   "source": [
    "# num_workers == 0の場合\n",
    "loader = create_loader(slow=True)\n",
    "time_from_last_batch = time.time()\n",
    "\n",
    "for i, _ in enumerate(loader):\n",
    "    batch_end = time.time()\n",
    "    elapsed = batch_end - time_from_last_batch\n",
    "    print(f\"elapsed time for batch: {i + 1} is {elapsed:.5f} s\")\n",
    "    time_from_last_batch = batch_end"
   ]
  },
  {
   "cell_type": "code",
   "execution_count": 9,
   "metadata": {},
   "outputs": [
    {
     "name": "stdout",
     "output_type": "stream",
     "text": [
      "elapsed time for batch: 1 is 0.39021 s\n",
      "elapsed time for batch: 2 is 0.38094 s\n",
      "elapsed time for batch: 3 is 0.36544 s\n",
      "elapsed time for batch: 4 is 0.36317 s\n"
     ]
    }
   ],
   "source": [
    "# num_workers > 0の場合\n",
    "loader = create_loader(slow=True, num_workers=1)\n",
    "time_from_last_batch = time.time()\n",
    "\n",
    "for i, _ in enumerate(loader):\n",
    "    batch_end = time.time()\n",
    "    elapsed = batch_end - time_from_last_batch\n",
    "    print(f\"elapsed time for batch: {i + 1} is {elapsed:.5f} s\")\n",
    "    time_from_last_batch = batch_end"
   ]
  },
  {
   "cell_type": "code",
   "execution_count": 10,
   "metadata": {},
   "outputs": [
    {
     "name": "stdout",
     "output_type": "stream",
     "text": [
      "elapsed time for batch: 1 is 0.38794 s\n",
      "elapsed time for batch: 2 is 0.00779 s\n",
      "elapsed time for batch: 3 is 0.36236 s\n",
      "elapsed time for batch: 4 is 0.00942 s\n"
     ]
    }
   ],
   "source": [
    "loader = create_loader(slow=True, num_workers=2)\n",
    "time_from_last_batch = time.time()\n",
    "\n",
    "for i, _ in enumerate(loader):\n",
    "    batch_end = time.time()\n",
    "    elapsed = batch_end - time_from_last_batch\n",
    "    print(f\"elapsed time for batch: {i + 1} is {elapsed:.5f} s\")\n",
    "    time_from_last_batch = batch_end"
   ]
  },
  {
   "cell_type": "code",
   "execution_count": 11,
   "metadata": {},
   "outputs": [
    {
     "name": "stdout",
     "output_type": "stream",
     "text": [
      "elapsed time for batch: 1 is 0.40101 s\n",
      "elapsed time for batch: 2 is 0.00495 s\n",
      "elapsed time for batch: 3 is 0.00020 s\n",
      "elapsed time for batch: 4 is 0.36986 s\n"
     ]
    }
   ],
   "source": [
    "loader = create_loader(slow=True, num_workers=3)\n",
    "time_from_last_batch = time.time()\n",
    "\n",
    "for i, _ in enumerate(loader):\n",
    "    batch_end = time.time()\n",
    "    elapsed = batch_end - time_from_last_batch\n",
    "    print(f\"elapsed time for batch: {i + 1} is {elapsed:.5f} s\")\n",
    "    time_from_last_batch = batch_end"
   ]
  },
  {
   "cell_type": "code",
   "execution_count": 12,
   "metadata": {},
   "outputs": [
    {
     "name": "stdout",
     "output_type": "stream",
     "text": [
      "elapsed time for batch: 1 is 0.40932 s\n",
      "elapsed time for batch: 2 is 0.00212 s\n",
      "elapsed time for batch: 3 is 0.00112 s\n",
      "elapsed time for batch: 4 is 0.00104 s\n"
     ]
    }
   ],
   "source": [
    "loader = create_loader(slow=True, num_workers=4)\n",
    "time_from_last_batch = time.time()\n",
    "\n",
    "for i, _ in enumerate(loader):\n",
    "    batch_end = time.time()\n",
    "    elapsed = batch_end - time_from_last_batch\n",
    "    print(f\"elapsed time for batch: {i + 1} is {elapsed:.5f} s\")\n",
    "    time_from_last_batch = batch_end"
   ]
  },
  {
   "cell_type": "markdown",
   "metadata": {},
   "source": [
    "上の例でわかるように、`num_workers`が2以上に設定されている場合、`DataLoader`の挙動としては最初の`n`バッチ分(`n`は指定したworker数)をまず取りにいき、それらが揃った段階で`for`ブロックの中の処理が走ります。`for`ブロックの中の処理が走っている最中も手が空いたworkerはバッチを次の`n`バッチ分を確保していますが、`for`ブロックの中の処理が十分に速いとすでに確保していてプールしてあったバッチをすぐに消費してしまうため、待ちが発生しworkerが次の`n`バッチ分を揃えるまで処理が止まります。"
   ]
  },
  {
   "cell_type": "markdown",
   "metadata": {},
   "source": [
    "また、`num_workers > 0`とした場合には最初の`n`バッチの用意をする時間に、subprocessを立ち上げるオーバーヘッドが加わります。この効果は、比較的小さいので、上のコードを再実行する場合は何回か試してみて確認してみてください。"
   ]
  },
  {
   "cell_type": "markdown",
   "metadata": {},
   "source": [
    "## 3. `DataLoader`で`num_workers > 0`を設定するといいのはどんな時か?"
   ]
  },
  {
   "cell_type": "markdown",
   "metadata": {},
   "source": [
    "### 3.1 挙動を元に考察\n",
    "\n",
    "まず、`num_workers`を2以上に設定することでバッチを用意するのにかかる時間を$\\frac{1}{num\\_workers}$にすることができます。しかしこれは速度向上の下限であり、`for`ブロック内の処理が比較的長い場合はバッチを用意するのにかかる時間の短縮効果はさらに高まります。\n",
    "\n",
    "具体的には$t_{batch}$をworkerがバッチを一つ用意するのにかかる時間、$t_{for}$を`for`ブロック内のコードが一バッチ分実行されるのにかかる時間とした場合に\n",
    "$$\n",
    "t_{batch} < t_{for}\n",
    "$$\n",
    "\n",
    "が成り立てば、上の例にあるような`for`ブロックの中の処理がプールしてあるバッチを消費しきってしまってメインプロセスが待ちに入るという状態を経ないため最も効用が高くなります。"
   ]
  },
  {
   "cell_type": "markdown",
   "metadata": {},
   "source": [
    "### num_workes > 0に指定して効果検証"
   ]
  },
  {
   "cell_type": "code",
   "execution_count": 4,
   "metadata": {},
   "outputs": [
    {
     "name": "stdout",
     "output_type": "stream",
     "text": [
      "cpuの数: 8\n"
     ]
    }
   ],
   "source": [
    "print(\"cpuの数:\", cpu_count())\n",
    "fastloader = torchdata.DataLoader(\n",
    "    DatasetWrapper(), \n",
    "    num_workers=0, \n",
    "    batch_size=batch_size,\n",
    "    shuffle=shuffle,\n",
    "    pin_memory=pin_memory)\n",
    "\n",
    "fastloader_multi = torchdata.DataLoader(\n",
    "    DatasetWrapper(), \n",
    "    num_workers=cpu_count() // 2, \n",
    "    batch_size=batch_size,\n",
    "    shuffle=shuffle,\n",
    "    pin_memory=pin_memory)\n",
    "\n",
    "slowloader = torchdata.DataLoader(\n",
    "    DatasetWrapper(slow=True, wait=0.01), \n",
    "    num_workers=0, \n",
    "    batch_size=batch_size,\n",
    "    shuffle=shuffle,\n",
    "    pin_memory=pin_memory)\n",
    "\n",
    "slowloader_multi = torchdata.DataLoader(\n",
    "    DatasetWrapper(slow=True, wait=0.01), \n",
    "    num_workers=cpu_count() // 2, \n",
    "    batch_size=batch_size,\n",
    "    shuffle=shuffle,\n",
    "    pin_memory=pin_memory)"
   ]
  },
  {
   "cell_type": "markdown",
   "metadata": {},
   "source": [
    "#### `DataLoader`のロード時間 < `for`文内の場合"
   ]
  },
  {
   "cell_type": "code",
   "execution_count": 5,
   "metadata": {},
   "outputs": [
    {
     "name": "stdout",
     "output_type": "stream",
     "text": [
      "CPU times: user 4.31 ms, sys: 1.77 ms, total: 6.09 ms\n",
      "Wall time: 4.01 s\n"
     ]
    }
   ],
   "source": [
    "%%time\n",
    "for batch in fastloader:\n",
    "    time.sleep(1.0)"
   ]
  },
  {
   "cell_type": "code",
   "execution_count": 6,
   "metadata": {},
   "outputs": [
    {
     "name": "stdout",
     "output_type": "stream",
     "text": [
      "CPU times: user 14.3 ms, sys: 18.9 ms, total: 33.1 ms\n",
      "Wall time: 4.16 s\n"
     ]
    }
   ],
   "source": [
    "%%time\n",
    "for batch in fastloader_multi:\n",
    "    time.sleep(1.0)"
   ]
  },
  {
   "cell_type": "markdown",
   "metadata": {},
   "source": [
    "#### `DataLoader`のロード時間 > `for`文内の場合"
   ]
  },
  {
   "cell_type": "code",
   "execution_count": 7,
   "metadata": {},
   "outputs": [
    {
     "name": "stdout",
     "output_type": "stream",
     "text": [
      "CPU times: user 13.3 ms, sys: 4.77 ms, total: 18.1 ms\n",
      "Wall time: 5.52 s\n"
     ]
    }
   ],
   "source": [
    "%%time\n",
    "for batch in slowloader:\n",
    "    time.sleep(1.0)"
   ]
  },
  {
   "cell_type": "code",
   "execution_count": 8,
   "metadata": {},
   "outputs": [
    {
     "name": "stdout",
     "output_type": "stream",
     "text": [
      "CPU times: user 13.2 ms, sys: 20.3 ms, total: 33.5 ms\n",
      "Wall time: 4.4 s\n"
     ]
    }
   ],
   "source": [
    "%%time\n",
    "for batch in slowloader_multi:\n",
    "    time.sleep(1.0)"
   ]
  },
  {
   "cell_type": "code",
   "execution_count": null,
   "metadata": {},
   "outputs": [],
   "source": []
  }
 ],
 "metadata": {
  "kernelspec": {
   "display_name": "Python 3",
   "language": "python",
   "name": "python3"
  },
  "language_info": {
   "codemirror_mode": {
    "name": "ipython",
    "version": 3
   },
   "file_extension": ".py",
   "mimetype": "text/x-python",
   "name": "python",
   "nbconvert_exporter": "python",
   "pygments_lexer": "ipython3",
   "version": "3.7.0"
  }
 },
 "nbformat": 4,
 "nbformat_minor": 4
}
